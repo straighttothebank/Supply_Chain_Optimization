{
 "cells": [
  {
   "cell_type": "code",
   "execution_count": 351,
   "id": "a03f8a4e",
   "metadata": {},
   "outputs": [],
   "source": [
    "#Importing libraries\n",
    "import os\n",
    "import pandas as pd\n",
    "import matplotlib.pyplot as plt\n",
    "import numpy as np\n",
    "from pulp import *"
   ]
  },
  {
   "cell_type": "code",
   "execution_count": 352,
   "id": "0964239a",
   "metadata": {},
   "outputs": [
    {
     "data": {
      "text/plain": [
       "['.ipynb_checkpoints',\n",
       " 'capacity.xlsx',\n",
       " 'demand.xlsx',\n",
       " 'fixed_cost.xlsx',\n",
       " 'freight_costs.xlsx',\n",
       " 'total_costs.xlsx',\n",
       " 'variable_costs.xlsx',\n",
       " 'warehouse_network_optimization.ipynb']"
      ]
     },
     "execution_count": 352,
     "metadata": {},
     "output_type": "execute_result"
    }
   ],
   "source": [
    "#List of datasets\n",
    "path = os.getcwd()\n",
    "os.listdir(path)"
   ]
  },
  {
   "cell_type": "code",
   "execution_count": 383,
   "id": "ad681f1b",
   "metadata": {},
   "outputs": [],
   "source": [
    "#Reading the datasets\n",
    "capacity = pd.read_excel('capacity.xlsx',index_col=0)\n",
    "demand = pd.read_excel('demand.xlsx',index_col=1)\n",
    "fixed_cost = pd.read_excel('fixed_cost.xlsx',index_col=0)\n",
    "freight_costs = pd.read_excel('freight_costs.xlsx',index_col=0)\n",
    "total_costs = pd.read_excel('total_costs.xlsx',index_col=0)\n",
    "variable_costs = pd.read_excel('variable_costs.xlsx',index_col=0)"
   ]
  },
  {
   "cell_type": "code",
   "execution_count": 384,
   "id": "d3a861f7",
   "metadata": {
    "scrolled": true
   },
   "outputs": [
    {
     "data": {
      "text/html": [
       "<div>\n",
       "<style scoped>\n",
       "    .dataframe tbody tr th:only-of-type {\n",
       "        vertical-align: middle;\n",
       "    }\n",
       "\n",
       "    .dataframe tbody tr th {\n",
       "        vertical-align: top;\n",
       "    }\n",
       "\n",
       "    .dataframe thead th {\n",
       "        text-align: right;\n",
       "    }\n",
       "</style>\n",
       "<table border=\"1\" class=\"dataframe\">\n",
       "  <thead>\n",
       "    <tr style=\"text-align: right;\">\n",
       "      <th></th>\n",
       "      <th>Low</th>\n",
       "      <th>High</th>\n",
       "    </tr>\n",
       "    <tr>\n",
       "      <th>Capacity (kUnits/month)</th>\n",
       "      <th></th>\n",
       "      <th></th>\n",
       "    </tr>\n",
       "  </thead>\n",
       "  <tbody>\n",
       "    <tr>\n",
       "      <th>USA</th>\n",
       "      <td>500</td>\n",
       "      <td>1500</td>\n",
       "    </tr>\n",
       "    <tr>\n",
       "      <th>Germany</th>\n",
       "      <td>500</td>\n",
       "      <td>1500</td>\n",
       "    </tr>\n",
       "    <tr>\n",
       "      <th>Japan</th>\n",
       "      <td>500</td>\n",
       "      <td>1500</td>\n",
       "    </tr>\n",
       "    <tr>\n",
       "      <th>Brazil</th>\n",
       "      <td>500</td>\n",
       "      <td>1500</td>\n",
       "    </tr>\n",
       "    <tr>\n",
       "      <th>India</th>\n",
       "      <td>500</td>\n",
       "      <td>3000</td>\n",
       "    </tr>\n",
       "  </tbody>\n",
       "</table>\n",
       "</div>"
      ],
      "text/plain": [
       "                         Low  High\n",
       "Capacity (kUnits/month)           \n",
       "USA                      500  1500\n",
       "Germany                  500  1500\n",
       "Japan                    500  1500\n",
       "Brazil                   500  1500\n",
       "India                    500  3000"
      ]
     },
     "execution_count": 384,
     "metadata": {},
     "output_type": "execute_result"
    }
   ],
   "source": [
    "#Checking capacities\n",
    "capacity"
   ]
  },
  {
   "cell_type": "code",
   "execution_count": 385,
   "id": "2fa01b33",
   "metadata": {},
   "outputs": [
    {
     "data": {
      "text/html": [
       "<div>\n",
       "<style scoped>\n",
       "    .dataframe tbody tr th:only-of-type {\n",
       "        vertical-align: middle;\n",
       "    }\n",
       "\n",
       "    .dataframe tbody tr th {\n",
       "        vertical-align: top;\n",
       "    }\n",
       "\n",
       "    .dataframe thead th {\n",
       "        text-align: right;\n",
       "    }\n",
       "</style>\n",
       "<table border=\"1\" class=\"dataframe\">\n",
       "  <thead>\n",
       "    <tr style=\"text-align: right;\">\n",
       "      <th>(Units/month)</th>\n",
       "      <th>Demand</th>\n",
       "    </tr>\n",
       "  </thead>\n",
       "  <tbody>\n",
       "    <tr>\n",
       "      <th>USA</th>\n",
       "      <td>2800.0</td>\n",
       "    </tr>\n",
       "    <tr>\n",
       "      <th>Germany</th>\n",
       "      <td>90.0</td>\n",
       "    </tr>\n",
       "    <tr>\n",
       "      <th>Japan</th>\n",
       "      <td>1700.0</td>\n",
       "    </tr>\n",
       "    <tr>\n",
       "      <th>Brazil</th>\n",
       "      <td>145.0</td>\n",
       "    </tr>\n",
       "    <tr>\n",
       "      <th>India</th>\n",
       "      <td>160.0</td>\n",
       "    </tr>\n",
       "  </tbody>\n",
       "</table>\n",
       "</div>"
      ],
      "text/plain": [
       "(Units/month)  Demand\n",
       "USA            2800.0\n",
       "Germany          90.0\n",
       "Japan          1700.0\n",
       "Brazil          145.0\n",
       "India           160.0"
      ]
     },
     "execution_count": 385,
     "metadata": {},
     "output_type": "execute_result"
    }
   ],
   "source": [
    "#Formatting demand dataset\n",
    "demand = demand.drop(demand.columns[[0]],axis=1)\n",
    "demand.columns = demand.iloc[0]\n",
    "demand = demand.drop(index=demand.index[0], axis=0)\n",
    "demand['Demand'] = demand['Demand']/1000\n",
    "demand"
   ]
  },
  {
   "cell_type": "code",
   "execution_count": 386,
   "id": "7d71f091",
   "metadata": {},
   "outputs": [
    {
     "data": {
      "text/plain": [
       "['USA', 'Germany', 'Japan', 'Brazil', 'India']"
      ]
     },
     "execution_count": 386,
     "metadata": {},
     "output_type": "execute_result"
    }
   ],
   "source": [
    "country_list = demand.index.values.tolist()\n",
    "country_list"
   ]
  },
  {
   "cell_type": "code",
   "execution_count": 387,
   "id": "52a5b6c8",
   "metadata": {
    "scrolled": true
   },
   "outputs": [
    {
     "data": {
      "image/png": "[encoded data removed]",
      "text/plain": [
       "<Figure size 1440x720 with 1 Axes>"
      ]
     },
     "metadata": {
      "needs_background": "light"
     },
     "output_type": "display_data"
    }
   ],
   "source": [
    "#Showing capacity graphs for exploratory analysis\n",
    "\n",
    "plt.figure(figsize=(20,10))\n",
    "\n",
    "width = 0.25\n",
    "\n",
    "X_axis = np.arange(len(country_list))\n",
    "  \n",
    "plt.bar(X_axis - 0.4, capacity['High'], 0.3, label = 'High Capacity')\n",
    "plt.bar(X_axis - 0.2, capacity['Low'], 0.3, label = 'Low Capacity')\n",
    "plt.bar(X_axis + 0.0, demand['Demand'], 0.3, label = 'Demand')\n",
    "\n",
    "plt.xticks(X_axis, country_list)\n",
    "plt.ylabel(\"kUnits\")\n",
    "plt.title(\"Capacity (kUnits/month) x Demand\")\n",
    "plt.legend()\n",
    "plt.grid()\n",
    "plt.show()"
   ]
  },
  {
   "cell_type": "code",
   "execution_count": 388,
   "id": "ecb7a78f",
   "metadata": {},
   "outputs": [
    {
     "data": {
      "text/html": [
       "<div>\n",
       "<style scoped>\n",
       "    .dataframe tbody tr th:only-of-type {\n",
       "        vertical-align: middle;\n",
       "    }\n",
       "\n",
       "    .dataframe tbody tr th {\n",
       "        vertical-align: top;\n",
       "    }\n",
       "\n",
       "    .dataframe thead th {\n",
       "        text-align: right;\n",
       "    }\n",
       "</style>\n",
       "<table border=\"1\" class=\"dataframe\">\n",
       "  <thead>\n",
       "    <tr style=\"text-align: right;\">\n",
       "      <th>(Units/month)</th>\n",
       "      <th>Demand</th>\n",
       "    </tr>\n",
       "  </thead>\n",
       "  <tbody>\n",
       "    <tr>\n",
       "      <th>USA</th>\n",
       "      <td>2800000</td>\n",
       "    </tr>\n",
       "    <tr>\n",
       "      <th>Germany</th>\n",
       "      <td>90000</td>\n",
       "    </tr>\n",
       "    <tr>\n",
       "      <th>Japan</th>\n",
       "      <td>1700000</td>\n",
       "    </tr>\n",
       "    <tr>\n",
       "      <th>Brazil</th>\n",
       "      <td>145000</td>\n",
       "    </tr>\n",
       "    <tr>\n",
       "      <th>India</th>\n",
       "      <td>160000</td>\n",
       "    </tr>\n",
       "  </tbody>\n",
       "</table>\n",
       "</div>"
      ],
      "text/plain": [
       "(Units/month)   Demand\n",
       "USA            2800000\n",
       "Germany          90000\n",
       "Japan          1700000\n",
       "Brazil          145000\n",
       "India           160000"
      ]
     },
     "execution_count": 388,
     "metadata": {},
     "output_type": "execute_result"
    }
   ],
   "source": [
    "#Returning demand to default\n",
    "demand = pd.read_excel('demand.xlsx',index_col=1)\n",
    "demand = demand.drop(demand.columns[[0]],axis=1)\n",
    "demand.columns = demand.iloc[0]\n",
    "demand = demand.drop(index=demand.index[0], axis=0)\n",
    "demand"
   ]
  },
  {
   "cell_type": "code",
   "execution_count": 389,
   "id": "29264c43",
   "metadata": {},
   "outputs": [
    {
     "data": {
      "text/html": [
       "<div>\n",
       "<style scoped>\n",
       "    .dataframe tbody tr th:only-of-type {\n",
       "        vertical-align: middle;\n",
       "    }\n",
       "\n",
       "    .dataframe tbody tr th {\n",
       "        vertical-align: top;\n",
       "    }\n",
       "\n",
       "    .dataframe thead th {\n",
       "        text-align: right;\n",
       "    }\n",
       "</style>\n",
       "<table border=\"1\" class=\"dataframe\">\n",
       "  <thead>\n",
       "    <tr style=\"text-align: right;\">\n",
       "      <th></th>\n",
       "      <th>USA</th>\n",
       "      <th>Germany</th>\n",
       "      <th>Japan</th>\n",
       "      <th>Brazil</th>\n",
       "      <th>India</th>\n",
       "    </tr>\n",
       "    <tr>\n",
       "      <th>Freight Costs ($/Container)</th>\n",
       "      <th></th>\n",
       "      <th></th>\n",
       "      <th></th>\n",
       "      <th></th>\n",
       "      <th></th>\n",
       "    </tr>\n",
       "  </thead>\n",
       "  <tbody>\n",
       "    <tr>\n",
       "      <th>USA</th>\n",
       "      <td>12.00</td>\n",
       "      <td>24.25</td>\n",
       "      <td>13.10</td>\n",
       "      <td>28.10</td>\n",
       "      <td>20.78</td>\n",
       "    </tr>\n",
       "    <tr>\n",
       "      <th>Germany</th>\n",
       "      <td>26.34</td>\n",
       "      <td>13.00</td>\n",
       "      <td>21.62</td>\n",
       "      <td>33.24</td>\n",
       "      <td>23.07</td>\n",
       "    </tr>\n",
       "    <tr>\n",
       "      <th>Japan</th>\n",
       "      <td>25.40</td>\n",
       "      <td>32.75</td>\n",
       "      <td>10.00</td>\n",
       "      <td>53.61</td>\n",
       "      <td>24.35</td>\n",
       "    </tr>\n",
       "    <tr>\n",
       "      <th>Brazil</th>\n",
       "      <td>24.45</td>\n",
       "      <td>30.05</td>\n",
       "      <td>36.00</td>\n",
       "      <td>8.00</td>\n",
       "      <td>37.75</td>\n",
       "    </tr>\n",
       "    <tr>\n",
       "      <th>India</th>\n",
       "      <td>18.65</td>\n",
       "      <td>20.40</td>\n",
       "      <td>29.50</td>\n",
       "      <td>34.40</td>\n",
       "      <td>5.00</td>\n",
       "    </tr>\n",
       "  </tbody>\n",
       "</table>\n",
       "</div>"
      ],
      "text/plain": [
       "                               USA  Germany  Japan  Brazil  India\n",
       "Freight Costs ($/Container)                                      \n",
       "USA                          12.00    24.25  13.10   28.10  20.78\n",
       "Germany                      26.34    13.00  21.62   33.24  23.07\n",
       "Japan                        25.40    32.75  10.00   53.61  24.35\n",
       "Brazil                       24.45    30.05  36.00    8.00  37.75\n",
       "India                        18.65    20.40  29.50   34.40   5.00"
      ]
     },
     "execution_count": 389,
     "metadata": {},
     "output_type": "execute_result"
    }
   ],
   "source": [
    "#Setting variable costs\n",
    "#Each container has capacity to transport 1000 items\n",
    "#So the cost of freight per unit is freight/1000\n",
    "\n",
    "variable_costs = freight_costs/1000 + variable_costs\n",
    "variable_costs = variable_costs.round(decimals = 2)\n",
    "variable_costs\n"
   ]
  },
  {
   "cell_type": "code",
   "execution_count": 390,
   "id": "1af1d3d5",
   "metadata": {},
   "outputs": [],
   "source": [
    "#Setting decision variables\n",
    "localization = country_list\n",
    "cap_size = ['Low','High']"
   ]
  },
  {
   "cell_type": "code",
   "execution_count": 393,
   "id": "11daa15a",
   "metadata": {},
   "outputs": [],
   "source": [
    "#Inicializing model\n",
    "model = LpProblem(\"Capacitated_Plant_Location_Model\", LpMinimize)"
   ]
  },
  {
   "cell_type": "code",
   "execution_count": 394,
   "id": "d28e75c2",
   "metadata": {},
   "outputs": [],
   "source": [
    "#Creating decision variables lists with distributive method\n",
    "x_dvariables = [(i,j) for i in localization for j in localization]\n",
    "y_dvariables = [(i,j) for j in cap_size for i in localization]\n",
    "\n",
    "#x_dvariables , y_dvariables"
   ]
  },
  {
   "cell_type": "code",
   "execution_count": 395,
   "id": "e5835c25",
   "metadata": {},
   "outputs": [],
   "source": [
    "#Creating decision variables dictionnaries\n",
    "\n",
    "'''\n",
    "lowbound – The lower bound on these variables’ range. Default is negative infinity\n",
    "upBound – The upper bound on these variables’ range. Default is positive infinity\n",
    "cat – The category these variables are in, Integer or Continuous(default)\n",
    "'''\n",
    "\n",
    "x = LpVariable.dicts(\"production_\", x_dvariables, lowBound=0, upBound=None, cat='continuous')\n",
    "y = LpVariable.dicts(\"plant_\", y_dvariables, cat='Binary')"
   ]
  },
  {
   "cell_type": "code",
   "execution_count": 396,
   "id": "bd37b890",
   "metadata": {},
   "outputs": [],
   "source": [
    "#Creating lpSum variables for objetive function\n",
    "fix_cost_variables = [fixed_cost.loc[i,j]*y[(i,j)]*1000 for j in cap_size for i in localization]\n",
    "var_cost_variables = [variable_costs.loc[i,j]*x[(i,j)] for i in localization for j in localization]\n",
    "#fix_cost_variables, var_cost_variables"
   ]
  },
  {
   "cell_type": "code",
   "execution_count": 397,
   "id": "cd3cfede",
   "metadata": {},
   "outputs": [],
   "source": [
    "#Defining objetive function\n",
    "\n",
    "'''\n",
    "def set_objective(self, variables, coefficients):\n",
    "        self.prob += lpSum([variable * coefficient for variable]) \n",
    "'''\n",
    "\n",
    "model += lpSum(fix_cost_variables) + lpSum(var_cost_variables)"
   ]
  },
  {
   "cell_type": "code",
   "execution_count": 398,
   "id": "d102db53",
   "metadata": {},
   "outputs": [],
   "source": [
    "#Setting the constraints\n",
    "for j in localization:\n",
    "    model += lpSum([x[(i,j)] for i in localization]) == demand.loc[j,'Demand']\n",
    "\n",
    "for i in localization:\n",
    "    model += lpSum([x[(i,j)] for j in localization]) <= lpSum([capacity.loc[i,s]*y[(i,s)]*1000 for s in cap_size])    "
   ]
  },
  {
   "cell_type": "code",
   "execution_count": 399,
   "id": "9687f988",
   "metadata": {},
   "outputs": [
    {
     "name": "stdout",
     "output_type": "stream",
     "text": [
      "Total Costs = 92,981,000 ($/Month)\n",
      "\n",
      "Status: Optimal\n"
     ]
    }
   ],
   "source": [
    "#Solve model\n",
    "model.solve()\n",
    "print(\"Total Costs = {:,} ($/Month)\".format(int(value(model.objective))))\n",
    "print('\\n' + \"Status: {}\".format(LpStatus[model.status]))"
   ]
  },
  {
   "cell_type": "code",
   "execution_count": 400,
   "id": "450e2b8c",
   "metadata": {},
   "outputs": [
    {
     "name": "stdout",
     "output_type": "stream",
     "text": [
      "('Brazil','High') = 0.0\n",
      "('Brazil','Low') = 1.0\n",
      "('Germany','High') = 0.0\n",
      "('Germany','Low') = 0.0\n",
      "('India','High') = 1.0\n",
      "('India','Low') = 0.0\n",
      "('Japan','High') = 1.0\n",
      "('Japan','Low') = 0.0\n",
      "('USA','High') = 1.0\n",
      "('USA','Low') = 0.0\n",
      "('Brazil','Brazil') = 145000.0\n",
      "('Brazil','Germany') = 0.0\n",
      "('Brazil','India') = 0.0\n",
      "('Brazil','Japan') = 0.0\n",
      "('Brazil','USA') = 0.0\n",
      "('Germany','Brazil') = 0.0\n",
      "('Germany','Germany') = 0.0\n",
      "('Germany','India') = 0.0\n",
      "('Germany','Japan') = 0.0\n",
      "('Germany','USA') = 0.0\n",
      "('India','Brazil') = 0.0\n",
      "('India','Germany') = 90000.0\n",
      "('India','India') = 160000.0\n",
      "('India','Japan') = 0.0\n",
      "('India','USA') = 1500000.0\n",
      "('Japan','Brazil') = 0.0\n",
      "('Japan','Germany') = 0.0\n",
      "('Japan','India') = 0.0\n",
      "('Japan','Japan') = 1500000.0\n",
      "('Japan','USA') = 0.0\n",
      "('USA','Brazil') = 0.0\n",
      "('USA','Germany') = 0.0\n",
      "('USA','India') = 0.0\n",
      "('USA','Japan') = 200000.0\n",
      "('USA','USA') = 1300000.0\n"
     ]
    }
   ],
   "source": [
    "#Setting dictionnaries with plant size and production's capacity\n",
    "dict_plant = {}\n",
    "dict_prod = {}\n",
    "\n",
    "#The value of dictionnary receives varValue of model variables\n",
    "\n",
    "for v in model.variables():\n",
    "    if 'plant' in v.name:\n",
    "        name = v.name.replace('plant__','').replace('_','')\n",
    "        dict_plant[name] = int(v.varValue) \n",
    "        p_name = name\n",
    "    else:\n",
    "        name = v.name.replace('production__','').replace('_','')\n",
    "        dict_prod[name] = v.varValue\n",
    "    print(name,\"=\",v.varValue)"
   ]
  },
  {
   "cell_type": "code",
   "execution_count": 404,
   "id": "e43fc575",
   "metadata": {},
   "outputs": [
    {
     "data": {
      "text/html": [
       "<div>\n",
       "<style scoped>\n",
       "    .dataframe tbody tr th:only-of-type {\n",
       "        vertical-align: middle;\n",
       "    }\n",
       "\n",
       "    .dataframe tbody tr th {\n",
       "        vertical-align: top;\n",
       "    }\n",
       "\n",
       "    .dataframe thead th {\n",
       "        text-align: right;\n",
       "    }\n",
       "</style>\n",
       "<table border=\"1\" class=\"dataframe\">\n",
       "  <thead>\n",
       "    <tr style=\"text-align: right;\">\n",
       "      <th></th>\n",
       "      <th>Low</th>\n",
       "      <th>High</th>\n",
       "    </tr>\n",
       "    <tr>\n",
       "      <th>Location</th>\n",
       "      <th></th>\n",
       "      <th></th>\n",
       "    </tr>\n",
       "  </thead>\n",
       "  <tbody>\n",
       "    <tr>\n",
       "      <th>USA</th>\n",
       "      <td>0</td>\n",
       "      <td>1</td>\n",
       "    </tr>\n",
       "    <tr>\n",
       "      <th>Germany</th>\n",
       "      <td>0</td>\n",
       "      <td>0</td>\n",
       "    </tr>\n",
       "    <tr>\n",
       "      <th>Japan</th>\n",
       "      <td>0</td>\n",
       "      <td>1</td>\n",
       "    </tr>\n",
       "    <tr>\n",
       "      <th>Brazil</th>\n",
       "      <td>1</td>\n",
       "      <td>0</td>\n",
       "    </tr>\n",
       "    <tr>\n",
       "      <th>India</th>\n",
       "      <td>0</td>\n",
       "      <td>1</td>\n",
       "    </tr>\n",
       "  </tbody>\n",
       "</table>\n",
       "</div>"
      ],
      "text/plain": [
       "          Low  High\n",
       "Location           \n",
       "USA         0     1\n",
       "Germany     0     0\n",
       "Japan       0     1\n",
       "Brazil      1     0\n",
       "India       0     1"
      ]
     },
     "execution_count": 404,
     "metadata": {},
     "output_type": "execute_result"
    }
   ],
   "source": [
    "#Capacity plant by optimal model\n",
    "\n",
    "list_low, list_high = [],[]\n",
    "\n",
    "for l in localization:\n",
    "    for capacity in ['Low','High']:\n",
    "        x = \"('{}','{}')\".format(l,capacity)\n",
    "        if capacity == 'Low':\n",
    "            list_low.append(dict_plant[x])\n",
    "        else:\n",
    "            list_high.append(dict_plant[x])\n",
    "optimal_model_result = pd.DataFrame({'Location': localization, 'Low':list_low, 'High': list_high}).set_index('Location')\n",
    "optimal_model_result"
   ]
  }
 ],
 "metadata": {
  "kernelspec": {
   "display_name": "Python 3 (ipykernel)",
   "language": "python",
   "name": "python3"
  },
  "language_info": {
   "codemirror_mode": {
    "name": "ipython",
    "version": 3
   },
   "file_extension": ".py",
   "mimetype": "text/x-python",
   "name": "python",
   "nbconvert_exporter": "python",
   "pygments_lexer": "ipython3",
   "version": "3.9.12"
  }
 },
 "nbformat": 4,
 "nbformat_minor": 5
}
